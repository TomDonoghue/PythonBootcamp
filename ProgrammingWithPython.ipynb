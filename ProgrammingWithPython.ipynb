{
 "cells": [
  {
   "cell_type": "markdown",
   "metadata": {},
   "source": [
    "<center><h1> Programming With Python </h1></center>"
   ]
  },
  {
   "cell_type": "markdown",
   "metadata": {},
   "source": [
    "<div class=\"alert alert-success\">\n",
    "This notebook is a brief introduction to Programming for Scientists, focusing on Python. It is basically a quick overview, plus links to external resources.\n",
    "</div>\n",
    "\n",
    "<div class=\"alert alert-info\">\n",
    "For a top-level overview of computing in science, check out\n",
    "<a href=\"http://journals.plos.org/ploscompbiol/article?id=10.1371/journal.pcbi.1005510\"> Good Enough Practices in Scientific Computing </a> \n",
    "<br>\n",
    "There is also the <a href=\"http://collections.plos.org/ten-simple-rules\">10 Simple Rules</a> collection, from PLoS, that includes several useful papers sketching out guidelines.\n",
    "</div>"
   ]
  },
  {
   "cell_type": "markdown",
   "metadata": {},
   "source": [
    "![title](img/python.png)"
   ]
  },
  {
   "cell_type": "markdown",
   "metadata": {
    "collapsed": true
   },
   "source": [
    "<center><h1> Python </h1></center>\n",
    "\n",
    "<div class=\"alert alert-success\"> \n",
    "Python is an <a href=\"https://en.wikipedia.org/wiki/Open-source_model\">open-source</a>,\n",
    "<a href=\"https://en.wikipedia.org/wiki/High-level_programming_language\">high-level</a>,\n",
    "<a href=\"https://en.wikipedia.org/wiki/General-purpose_programming_language\">general purpose</a>,\n",
    "<a href=\"https://en.wikipedia.org/wiki/Interpreted_language\">interpreted</a>,\n",
    "<a href=\"https://en.wikipedia.org/wiki/Programming_language\">programming language</a>, one of the most popular programming languages, including for science. It also has the benefits of having a large, active user-community, and is a generalizable skill, also common in many areas of industry.\n",
    "</div>\n",
    "\n",
    "<div class=\"alert alert-info\">\n",
    "The official Python Website: <a href=\"https://www.python.org\">https://www.python.org</a>\n",
    "</div>"
   ]
  },
  {
   "cell_type": "markdown",
   "metadata": {},
   "source": [
    "<img src=\"img/jupyter.png\" style=\"width: 300px;\"/>\n",
    "\n",
    "<div class=\"alert alert-success\">\n",
    "Jupyter notebooks are a way to intermix code, outputs and plain text. \n",
    "They run in a web browser, and connect to a kernel to be able to execute code. \n",
    "</div>\n",
    "\n",
    "<div class=\"alert alert-info\">\n",
    "You can find more information about Project Jupyter at their <a href=http://jupyter.org>website</a>.\n",
    "A quick introduction to Jupyter notebooks is also available \n",
    "<a href=\"https://github.com/COGS108/Tutorials/blob/master/01-JupyterNotebooks.ipynb\">here</a>.\n",
    "</div>\n",
    "\n",
    "<a href=\"\"></a>"
   ]
  },
  {
   "cell_type": "markdown",
   "metadata": {},
   "source": [
    "<center><h2> Tutorials for Learning Python </h2></center>"
   ]
  },
  {
   "cell_type": "markdown",
   "metadata": {},
   "source": [
    "- [Codecademy](https://www.codecademy.com/tracks/python) is great for very beginner levels. \n",
    "- There is also the [Official Beginners Guide](https://wiki.python.org/moin/BeginnersGuide).\n",
    "- [Whirlwind Tour](https://github.com/jakevdp/WhirlwindTourOfPython) of Python, by [Jake Vanderplas](https://github.com/jakevdp) is a nice quick overview of the language\n",
    "    - This resource is ideal if you have some experience in other languages, and want a primer on Python\n",
    "- [Python Challenge](http://www.pythonchallenge.com/) is a good place for (sometimes infuriating) programming challenges. \n",
    "- [Leet Code](https://leetcode.com/) is a place for more intense technical coding questions and challenges (geared towards industry interviews)."
   ]
  },
  {
   "cell_type": "markdown",
   "metadata": {},
   "source": [
    "<img src=\"img/scipy.png\" style=\"width: 250px;\"/>\n",
    "<center><h1> Data Science & Scientific Computing in Python </h1></center>"
   ]
  },
  {
   "cell_type": "markdown",
   "metadata": {},
   "source": [
    "<div class=\"alert alert-success\">\n",
    "The main collection of scientific code in Python is Scipy, which is really a superset of a large number of individual packages. \n",
    "</div>\n",
    "\n",
    "<div class=\"alert alert-info\">\n",
    "Scipy's official homepage <a href=\"https://www.scipy.org/\">https://www.scipy.org/</a> \n",
    "</div>\n",
    "\n",
    "Notably, the family of packages for scientific computing / data science in Python includes:\n",
    "- [numpy](http://www.numpy.org): Numerical Computing and Array Objects\n",
    "- [matplotlib](https://matplotlib.org): Plotting\n",
    "- [scikit learn](http://scikit-learn.org/stable/): Machine Learning\n",
    "- [pandas](http://pandas.pydata.org): Data Analysis"
   ]
  },
  {
   "cell_type": "markdown",
   "metadata": {},
   "source": [
    "<div class=\"alert alert-info\">\n",
    "For comprehensive, hands-on tutorials for the scientific computing ecosystem in Python, check out the [Data Science Handbook](https://github.com/jakevdp/PythonDataScienceHandbook) by [Jake Vanderplas](http://github.com/jakevdp).\n",
    "<br>\n",
    "\n",
    "There is also a comprehensive set of Tutorials available as part of the [Hands On Data Science](https://github.com/COGS108/Tutorials) class. \n",
    "</div>\n",
    "\n"
   ]
  },
  {
   "cell_type": "markdown",
   "metadata": {},
   "source": [
    "<center><h1> Code Organization </h1></center>"
   ]
  },
  {
   "cell_type": "code",
   "execution_count": 3,
   "metadata": {
    "collapsed": true
   },
   "outputs": [],
   "source": [
    "# To fill in some comments on modules vs. scripts vs. notebooks, and project management. \n",
    "# Also, a note on modular programming. "
   ]
  },
  {
   "cell_type": "markdown",
   "metadata": {},
   "source": [
    "<center><h1> Programming Practices </h1></center>\n",
    "\n",
    "Writing code that runs isn't enough. You want code that is understandable, and does what it is supposed to do, in a reasonaly efficient manner. "
   ]
  },
  {
   "cell_type": "markdown",
   "metadata": {},
   "source": [
    "## Style Guides\n",
    "\n",
    "Python has a style guide - a guide to how to write Pythonic code - called 'PEP8', that you should follow. Style guides keep code consistent between people, increasing readability. There are automatic tools, called 'linters', that can help you check if your code follows style guides.  \n",
    "\n",
    "- PEP8: https://www.python.org/dev/peps/pep-0008/\n",
    "- Linting (pylint): https://pylint.readthedocs.io/en/latest/"
   ]
  },
  {
   "cell_type": "markdown",
   "metadata": {},
   "source": [
    "## Documentation\n",
    "\n",
    "Document your code! Add comments explaining what your code does, and why it does it like that. Numpy docs is a good style guide for documenting code.\n",
    "\n",
    "Numpy Docs:\n",
    "- How to: https://github.com/numpy/numpy/blob/master/doc/HOWTO_DOCUMENT.rst.txt\n",
    "- Example: https://github.com/numpy/numpy/blob/master/doc/example.py"
   ]
  },
  {
   "cell_type": "markdown",
   "metadata": {},
   "source": [
    "## Testing\n",
    "\n",
    "Code testing means checking that your code does what it is supposed to do. Automated methods can run tests on demand and check that your code is runs properly, and provides the correct output on known test cases. Having tests can make it much easier to update code, to run it on different systems. \n",
    "\n",
    "There are various 'levels' of software testing, for example:\n",
    "- Smoke Tests: Testing whether your code runs without breaking. \n",
    "- Unit Tests: Testing each small, independent 'unit' of the code.\n",
    "- Integration Tests: Testing the combination of software modules as a group. \n",
    "\n",
    "Pytest:\n",
    "- https://docs.pytest.org/en/latest/"
   ]
  },
  {
   "cell_type": "markdown",
   "metadata": {},
   "source": [
    "## Profiling\n",
    "\n",
    "Profiling means to check the performance, either in terms of memory use and/or computation time, of code. "
   ]
  },
  {
   "cell_type": "markdown",
   "metadata": {},
   "source": [
    "## Package Management\n",
    "\n",
    "Python code is split up into 'packages'. Managing packages is easiest with [anaconda](http://anaconda.org). \n",
    "\n",
    "<br>\n",
    "<br>"
   ]
  },
  {
   "cell_type": "markdown",
   "metadata": {},
   "source": [
    "![Github](img/github.png)\n",
    "<br>\n",
    "\n",
    "\n",
    "<br>\n",
    "<div class=\"alert alert-success\">\n",
    "Version control is a way of managing changes to code, and dealing with multiple different versions of code, including across different people. \n",
    "</div>\n",
    "\n",
    "<div class=\"alert alert-info\">\n",
    "The most common tools for version control are Github (https://github.com) and git (https://git-scm.com), tools which work together.\n",
    "</div>\n",
    "\n",
    "<div class=\"alert alert-info\">\n",
    "A tutorial for git & Github is availabe from <a href=\"http://swcarpentry.github.io/git-novice/\">Software Carpentry</a>, and/or a quick overview and links to other resources is available <a href=\"https://github.com/COGS108/ExtraMaterials/blob/master/X1-Git.ipynb\">here</a>.\n",
    "</div>\n",
    "\n",
    "<div class=\"alert alert-info\">\n",
    "Github and git is often used from the shell (terminal). If you are unfamiliar with the shell, Software Carpentry has a tutorial <a href=\"https://swcarpentry.github.io/shell-novice/\">here</a>. <br>There are also several graphical user interfaces for using git and Github - we recommend <a href=\"https://www.sourcetreeapp.com\">SourceTree</a>.\n",
    "</div>\n",
    "\n",
    "<div class=\"alert alert-info\">\n",
    "You can also check out <a href=\"http://journals.plos.org/ploscompbiol/article?id=10.1371/journal.pcbi.1004668\"> A Quick Introduction </a> and/or <a href=\"http://journals.plos.org/ploscompbiol/article?id=10.1371/journal.pcbi.1004947\"> Ten Simple Rules </a> from the PLoS collections.\n",
    "</div>"
   ]
  },
  {
   "cell_type": "markdown",
   "metadata": {},
   "source": [
    "<center><h1> Basic Recommendations </h1></center>\n",
    "\n",
    "<div class=\"alert alert-success\">\n",
    "The following are our basic recommendations for using code in a scientific context (mostly language agnostic).\n",
    "</div>\n",
    "\n",
    "- Software Management (Python)\n",
    "    - Download and use the [anaconda distribution](https://docs.anaconda.com/anaconda/) of Python3\n",
    "- Data Organization\n",
    "    - If possible / available, use standardized formats and organizational structures for storing all your data\n",
    "    - And/or: At least, have and follow some internal (lab) data storage standards\n",
    "- Code Organization & Version Control\n",
    "    - Use git & Github\n",
    "- Code Style & Documentation\n",
    "    - Follow standard style guides\n",
    "    - Document your code!\n",
    "- Code Tests\n",
    "    - Write and use 'smoke tests'\n",
    "- Share Code & Data when possible\n",
    "    - If you keep your code on Github, and document as you go along, this is as easy as making the repository public\n",
    "- Using external libraries\n",
    "    - Scope out what exists, and decide what needs to be custom, and what you will use from elsewhere\n",
    "    - Try to reduce custom code\n",
    "    - Have a general consensus on this within the lab, and check back in periodically, both across the lab, and by exploring available packages"
   ]
  },
  {
   "cell_type": "markdown",
   "metadata": {},
   "source": [
    "<div class=\"alert alert-info\">\n",
    "For more information, check out the '10 Simple Rules' guides on  <a href=\"http://journals.plos.org/ploscompbiol/article?id=10.1371/journal.pcbi.1002802\"> Open Development of Scientific Software </a> and/or <a href=\"http://journals.plos.org/ploscompbiol/article?id=10.1371/journal.pcbi.1005412\"> Making Software More Robust</a>.\n",
    "</div>"
   ]
  },
  {
   "cell_type": "markdown",
   "metadata": {},
   "source": [
    "<center><h1> Advanced Recommendations </h1></center>\n",
    "\n",
    "<div class=\"alert alert-success\">\n",
    "As your use of programming extends, you may need more tools and practices. Some examples of more advanced practices are listed below.\n",
    "</div>\n",
    "\n",
    "- Code Testing\n",
    "    - Write unit and integration tests\n",
    "- Continuous Integration\n",
    "    - Use [travisCI](https://travis-ci.org) or [circleCI](https://circleci.com)\n",
    "- Managing Software Environments\n",
    "    - [Anaconda Environments](https://conda.io/docs/user-guide/tasks/manage-environments.html)\n",
    "    - [Docker](https://www.docker.com)\n",
    "- Profile and Optimize Code\n",
    "    - For Python: can speed up with [Cython](http://cython.org)\n",
    "    - Parallelize your code\n",
    "- Formally Release Code\n",
    "    - For example, through [PYPI](https://pypi.python.org/pypi) - Python Package Index\n",
    "- Run computation on the cloud"
   ]
  },
  {
   "cell_type": "markdown",
   "metadata": {},
   "source": [
    "<center><h1> Reproducible Computation </h1></center>"
   ]
  },
  {
   "cell_type": "markdown",
   "metadata": {},
   "source": [
    "One of the most powerful aspects of using computation is that precisely specified procedures that can repeatedly applied. However, using code does guarantee that your projects are reproducible. As well as using good programming practices to keep your code organized, accurate and efficient, the following guidelines can help make sure your analysis pipelines are reproducible:\n",
    "- Whenever possible, automate, and avoid manual interventions\n",
    "- Use modular programming, and organize your code into functions, modules and scripts\n",
    "- If you use interactive environments, like Jupyter, or integrated development environments, make sure to also collect code into scripts\n",
    "- Keep track of your code environment, and the software versions that you are using\n",
    "- As your project scales, create 'master scripts' that \n",
    "\n",
    "The ultimate goal of creating a reproducible computational workflow is that you should be able to have a single script that can (repeatedly) run the whole project, from loading the data, through pre-processing and analysis, and re-creating all the figures. "
   ]
  },
  {
   "cell_type": "markdown",
   "metadata": {},
   "source": [
    "<center><h1> Find Your People </h1></center>"
   ]
  },
  {
   "cell_type": "markdown",
   "metadata": {},
   "source": [
    "Programming languages bring with them a community and a culture, or rather, many communities with many different cultures. Find the people doing similar things in the same language, and get in touch with them, whether that be locally, or through web forums, social media groups and special interest groups. "
   ]
  }
 ],
 "metadata": {
  "kernelspec": {
   "display_name": "Python [default]",
   "language": "python",
   "name": "python3"
  },
  "language_info": {
   "codemirror_mode": {
    "name": "ipython",
    "version": 3
   },
   "file_extension": ".py",
   "mimetype": "text/x-python",
   "name": "python",
   "nbconvert_exporter": "python",
   "pygments_lexer": "ipython3",
   "version": "3.6.3"
  }
 },
 "nbformat": 4,
 "nbformat_minor": 2
}
