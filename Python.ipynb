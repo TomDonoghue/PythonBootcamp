{
 "cells": [
  {
   "cell_type": "markdown",
   "metadata": {
    "collapsed": true
   },
   "source": [
    "# Why Python?\n",
    "\n",
    "- Open Source\n",
    "- High Level\n",
    "- General Purpose\n",
    "- Large User Community"
   ]
  },
  {
   "cell_type": "markdown",
   "metadata": {},
   "source": [
    "# Jupyter Notebooks\n",
    "\n",
    "- Homepage: http://jupyter.org"
   ]
  },
  {
   "cell_type": "markdown",
   "metadata": {},
   "source": [
    "# Basic Python\n",
    "\n",
    "- https://www.python.org"
   ]
  },
  {
   "cell_type": "markdown",
   "metadata": {},
   "source": [
    "# Scientific Python\n",
    "\n",
    "- scipy: https://www.scipy.org"
   ]
  },
  {
   "cell_type": "markdown",
   "metadata": {},
   "source": [
    "# Documentation\n",
    "\n",
    "Numpy Docs:\n",
    "- How to: https://github.com/numpy/numpy/blob/master/doc/HOWTO_DOCUMENT.rst.txt\n",
    "- Example: https://github.com/numpy/numpy/blob/master/doc/example.py"
   ]
  },
  {
   "cell_type": "markdown",
   "metadata": {},
   "source": [
    "# Style Guides\n",
    "\n",
    "- PEP8: https://www.python.org/dev/peps/pep-0008/\n",
    "- Linting (pylint): https://pylint.readthedocs.io/en/latest/"
   ]
  },
  {
   "cell_type": "markdown",
   "metadata": {},
   "source": [
    "# Testing\n",
    "\n",
    "- Smoke Test: Testing whether your code runs without "
   ]
  },
  {
   "cell_type": "markdown",
   "metadata": {},
   "source": [
    "# Profiling\n",
    "\n",
    "- Checking the performance of your code"
   ]
  },
  {
   "cell_type": "markdown",
   "metadata": {},
   "source": [
    "# Package Management"
   ]
  },
  {
   "cell_type": "markdown",
   "metadata": {},
   "source": [
    "# Version Control\n",
    "\n",
    "- Keeping track of changes to, and different versions of, your code. \n",
    "    - Github: https://github.com\n",
    "    - git: https://git-scm.com"
   ]
  },
  {
   "cell_type": "markdown",
   "metadata": {},
   "source": [
    "# Basic Recommendations\n",
    "\n",
    "- Data Organization\n",
    "    - If possible / available, use standardized formats\n",
    "    - And/or: Have and follow some internal (lab) data storage standards\n",
    "- Code Organization & Version Control\n",
    "    - Use git & Github\n",
    "- Code Style & Documentation\n",
    "    - Follow standard style guides\n",
    "    - Document your code!\n",
    "- Code Tests\n",
    "    - Write and use 'smoke tests'\n",
    "- Share Code & Data when possible\n",
    "- Using external libraries\n",
    "    - Scope out what exists, and decide what needs to be custom, and what you will use from elsewhere\n",
    "    - Try to reduce custom code\n",
    "    - Have a general consensus on this within the lab, and check back in periodically"
   ]
  },
  {
   "cell_type": "markdown",
   "metadata": {},
   "source": [
    "# Advanced Recommendations\n",
    "\n",
    "- Code Testing\n",
    "    - Write unit and integration tests\n",
    "- Continuous Integration\n",
    "    - Use travisCI or circleCI\n",
    "- Managing Software Environments\n",
    "    - Docker\n",
    "- Profile and Optimize Code\n",
    "    - For Python: can speed up with Cython\n",
    "    - Parallelize\n",
    "- Release Code\n",
    "    - For example, PYPI - Python Package Index\n",
    "- Servers & Cloud Based Computing"
   ]
  },
  {
   "cell_type": "code",
   "execution_count": null,
   "metadata": {
    "collapsed": true
   },
   "outputs": [],
   "source": []
  }
 ],
 "metadata": {
  "kernelspec": {
   "display_name": "Python 3",
   "language": "python",
   "name": "python3"
  },
  "language_info": {
   "codemirror_mode": {
    "name": "ipython",
    "version": 3
   },
   "file_extension": ".py",
   "mimetype": "text/x-python",
   "name": "python",
   "nbconvert_exporter": "python",
   "pygments_lexer": "ipython3",
   "version": "3.6.1"
  }
 },
 "nbformat": 4,
 "nbformat_minor": 2
}
